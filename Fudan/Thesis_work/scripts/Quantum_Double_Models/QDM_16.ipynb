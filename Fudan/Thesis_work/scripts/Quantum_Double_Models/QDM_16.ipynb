{
 "cells": [
  {
   "cell_type": "markdown",
   "metadata": {},
   "source": [
    "## Simple Mathematics using SageMath"
   ]
  },
  {
   "cell_type": "code",
   "execution_count": 6,
   "metadata": {
    "collapsed": false
   },
   "outputs": [],
   "source": [
    "# Finding the gcd of two numbers\n",
    "gcd?"
   ]
  },
  {
   "cell_type": "code",
   "execution_count": 7,
   "metadata": {
    "collapsed": false
   },
   "outputs": [
    {
     "data": {
      "text/plain": [
       "5"
      ]
     },
     "execution_count": 7,
     "metadata": {},
     "output_type": "execute_result"
    }
   ],
   "source": [
    "gcd(25,30)"
   ]
  },
  {
   "cell_type": "code",
   "execution_count": 8,
   "metadata": {
    "collapsed": false
   },
   "outputs": [
    {
     "data": {
      "text/plain": [
       "5^4"
      ]
     },
     "execution_count": 8,
     "metadata": {},
     "output_type": "execute_result"
    }
   ],
   "source": [
    "factor(625)"
   ]
  },
  {
   "cell_type": "code",
   "execution_count": 9,
   "metadata": {
    "collapsed": false
   },
   "outputs": [
    {
     "data": {
      "text/plain": [
       "5 * 487"
      ]
     },
     "execution_count": 9,
     "metadata": {},
     "output_type": "execute_result"
    }
   ],
   "source": [
    "factor(2435)"
   ]
  },
  {
   "cell_type": "code",
   "execution_count": 11,
   "metadata": {
    "collapsed": false
   },
   "outputs": [
    {
     "data": {
      "text/plain": [
       "[1 2 4]\n",
       "[1 3 5]\n",
       "[5 4 2]"
      ]
     },
     "execution_count": 11,
     "metadata": {},
     "output_type": "execute_result"
    }
   ],
   "source": [
    "M = matrix([[1,2,4],[1,3,5],[5,4,2]]);M"
   ]
  },
  {
   "cell_type": "code",
   "execution_count": 12,
   "metadata": {
    "collapsed": false
   },
   "outputs": [
    {
     "data": {
      "text/plain": [
       "[   7/6     -1    1/6]\n",
       "[-23/12    3/2   1/12]\n",
       "[ 11/12   -1/2  -1/12]"
      ]
     },
     "execution_count": 12,
     "metadata": {},
     "output_type": "execute_result"
    }
   ],
   "source": [
    "M.inverse()"
   ]
  },
  {
   "cell_type": "code",
   "execution_count": 13,
   "metadata": {
    "collapsed": false
   },
   "outputs": [
    {
     "data": {
      "text/plain": [
       "[-3.583940313126412?, 0.3631206519422502?, 9.22081966118417?]"
      ]
     },
     "execution_count": 13,
     "metadata": {},
     "output_type": "execute_result"
    }
   ],
   "source": [
    "M.eigenvalues()"
   ]
  },
  {
   "cell_type": "markdown",
   "metadata": {},
   "source": [
    "* * *"
   ]
  },
  {
   "cell_type": "markdown",
   "metadata": {},
   "source": [
    "## Group Theory in SageMath"
   ]
  },
  {
   "cell_type": "code",
   "execution_count": 15,
   "metadata": {
    "collapsed": false
   },
   "outputs": [
    {
     "data": {
      "text/plain": [
       "Symmetric group of order 2! as a permutation group"
      ]
     },
     "execution_count": 15,
     "metadata": {},
     "output_type": "execute_result"
    }
   ],
   "source": [
    "Z2 = SymmetricGroup(2); Z2"
   ]
  },
  {
   "cell_type": "code",
   "execution_count": 16,
   "metadata": {
    "collapsed": false
   },
   "outputs": [
    {
     "data": {
      "text/plain": [
       "Symmetric group of order 3! as a permutation group"
      ]
     },
     "execution_count": 16,
     "metadata": {},
     "output_type": "execute_result"
    }
   ],
   "source": [
    "S3 = SymmetricGroup(3); S3"
   ]
  },
  {
   "cell_type": "code",
   "execution_count": 17,
   "metadata": {
    "collapsed": false
   },
   "outputs": [
    {
     "data": {
      "text/plain": [
       "True"
      ]
     },
     "execution_count": 17,
     "metadata": {},
     "output_type": "execute_result"
    }
   ],
   "source": [
    "Z2.is_subgroup(S3)"
   ]
  },
  {
   "cell_type": "code",
   "execution_count": 18,
   "metadata": {
    "collapsed": false
   },
   "outputs": [
    {
     "data": {
      "text/plain": [
       "False"
      ]
     },
     "execution_count": 18,
     "metadata": {},
     "output_type": "execute_result"
    }
   ],
   "source": [
    "S3.is_cyclic()"
   ]
  },
  {
   "cell_type": "code",
   "execution_count": 19,
   "metadata": {
    "collapsed": false
   },
   "outputs": [
    {
     "data": {
      "text/plain": [
       "True"
      ]
     },
     "execution_count": 19,
     "metadata": {},
     "output_type": "execute_result"
    }
   ],
   "source": [
    "Z2.is_abelian()"
   ]
  },
  {
   "cell_type": "markdown",
   "metadata": {},
   "source": [
    "* * *"
   ]
  },
  {
   "cell_type": "markdown",
   "metadata": {},
   "source": [
    "## Excitations, Ribbon operators, Ground states in Quantum Double Models"
   ]
  },
  {
   "cell_type": "markdown",
   "metadata": {},
   "source": [
    "#### Defining different models - Quantum Double of Z<sub>2</sub>, S<sub>3</sub>, D<sub>4</sub>"
   ]
  },
  {
   "cell_type": "code",
   "execution_count": 2,
   "metadata": {
    "collapsed": false
   },
   "outputs": [
    {
     "data": {
      "text/plain": [
       "Symmetric group of order 2! as a permutation group"
      ]
     },
     "execution_count": 2,
     "metadata": {},
     "output_type": "execute_result"
    }
   ],
   "source": [
    "QDM_Toric = SymmetricGroup(2)\n",
    "QDM_Toric"
   ]
  },
  {
   "cell_type": "code",
   "execution_count": 3,
   "metadata": {
    "collapsed": false
   },
   "outputs": [
    {
     "data": {
      "text/plain": [
       "Symmetric group of order 3! as a permutation group"
      ]
     },
     "execution_count": 3,
     "metadata": {},
     "output_type": "execute_result"
    }
   ],
   "source": [
    "QDM_S3 = SymmetricGroup(3)\n",
    "QDM_S3"
   ]
  },
  {
   "cell_type": "code",
   "execution_count": 4,
   "metadata": {
    "collapsed": false
   },
   "outputs": [
    {
     "data": {
      "text/plain": [
       "Dihedral group of order 8 as a permutation group"
      ]
     },
     "execution_count": 4,
     "metadata": {},
     "output_type": "execute_result"
    }
   ],
   "source": [
    "QDM_D4 = DihedralGroup(4)\n",
    "QDM_D4"
   ]
  },
  {
   "cell_type": "code",
   "execution_count": 18,
   "metadata": {
    "collapsed": false
   },
   "outputs": [
    {
     "data": {
      "text/plain": [
       "Cyclic group of order 14 as a permutation group"
      ]
     },
     "execution_count": 18,
     "metadata": {},
     "output_type": "execute_result"
    }
   ],
   "source": [
    "G=CyclicPermutationGroup(14)\n",
    "G"
   ]
  },
  {
   "cell_type": "markdown",
   "metadata": {},
   "source": [
    "* * * *"
   ]
  },
  {
   "cell_type": "markdown",
   "metadata": {},
   "source": [
    "#### Developing the machinery to compute the number of excitations."
   ]
  },
  {
   "cell_type": "markdown",
   "metadata": {},
   "source": [
    "##### 1. Computing the centralizers of the conjugacy class of the group."
   ]
  },
  {
   "cell_type": "code",
   "execution_count": 1,
   "metadata": {
    "collapsed": true
   },
   "outputs": [],
   "source": [
    "def centralizer_conjugacy_class_QDM_generic(QDM_group):\n",
    "    cent_QDM_group = []\n",
    "    for conj_class in QDM_group.conjugacy_classes():\n",
    "        centralizer = QDM_group.centralizer(conj_class.an_element())\n",
    "        cent_QDM_group.append(centralizer)\n",
    "    return cent_QDM_group"
   ]
  },
  {
   "cell_type": "code",
   "execution_count": 6,
   "metadata": {
    "collapsed": false
   },
   "outputs": [
    {
     "data": {
      "text/plain": [
       "[Subgroup of (Symmetric group of order 2! as a permutation group) generated by [(1,2)],\n",
       " Subgroup of (Symmetric group of order 2! as a permutation group) generated by [(1,2)]]"
      ]
     },
     "execution_count": 6,
     "metadata": {},
     "output_type": "execute_result"
    }
   ],
   "source": [
    "cent_toric = centralizer_conjugacy_class_QDM_generic(QDM_Toric)\n",
    "cent_toric"
   ]
  },
  {
   "cell_type": "code",
   "execution_count": 7,
   "metadata": {
    "collapsed": false
   },
   "outputs": [
    {
     "data": {
      "text/plain": [
       "[Subgroup of (Symmetric group of order 3! as a permutation group) generated by [(2,3), (1,3)],\n",
       " Subgroup of (Symmetric group of order 3! as a permutation group) generated by [(1,2)],\n",
       " Subgroup of (Symmetric group of order 3! as a permutation group) generated by [(1,2,3)]]"
      ]
     },
     "execution_count": 7,
     "metadata": {},
     "output_type": "execute_result"
    }
   ],
   "source": [
    "cent_s3 = centralizer_conjugacy_class_QDM_generic(QDM_S3)\n",
    "cent_s3"
   ]
  },
  {
   "cell_type": "code",
   "execution_count": 8,
   "metadata": {
    "collapsed": false
   },
   "outputs": [
    {
     "data": {
      "text/plain": [
       "[Subgroup of (Dihedral group of order 8 as a permutation group) generated by [(1,2,3,4), (1,4)(2,3)],\n",
       " Subgroup of (Dihedral group of order 8 as a permutation group) generated by [(2,4), (1,3)(2,4)],\n",
       " Subgroup of (Dihedral group of order 8 as a permutation group) generated by [(1,2)(3,4), (1,3)(2,4)],\n",
       " Subgroup of (Dihedral group of order 8 as a permutation group) generated by [(1,2,3,4), (1,3)(2,4)],\n",
       " Subgroup of (Dihedral group of order 8 as a permutation group) generated by [(1,2,3,4), (1,4)(2,3)]]"
      ]
     },
     "execution_count": 8,
     "metadata": {},
     "output_type": "execute_result"
    }
   ],
   "source": [
    "cent_d4 = centralizer_conjugacy_class_QDM_generic(QDM_D4)\n",
    "cent_d4"
   ]
  },
  {
   "cell_type": "markdown",
   "metadata": {},
   "source": [
    "##### 2. The character table gives the number of trace of the irreducible representations (but the trace is used at a later stage)."
   ]
  },
  {
   "cell_type": "code",
   "execution_count": 9,
   "metadata": {
    "collapsed": true
   },
   "outputs": [],
   "source": [
    "def character_table_centralizers(centralizers_generic_group):\n",
    "    char_table = []\n",
    "    for subgroup in centralizers_generic_group:\n",
    "        char_table.append(subgroup.character_table())\n",
    "    return char_table"
   ]
  },
  {
   "cell_type": "code",
   "execution_count": 10,
   "metadata": {
    "collapsed": false
   },
   "outputs": [
    {
     "data": {
      "text/plain": [
       "[\n",
       "[ 1 -1]  [ 1 -1]\n",
       "[ 1  1], [ 1  1]\n",
       "]"
      ]
     },
     "execution_count": 10,
     "metadata": {},
     "output_type": "execute_result"
    }
   ],
   "source": [
    "cent_toric_centralizer_character = character_table_centralizers(cent_toric)\n",
    "cent_toric_centralizer_character"
   ]
  },
  {
   "cell_type": "code",
   "execution_count": 11,
   "metadata": {
    "collapsed": false
   },
   "outputs": [
    {
     "data": {
      "text/plain": [
       "[\n",
       "[ 1 -1  1]           [         1          1          1]\n",
       "[ 2  0 -1]  [ 1 -1]  [         1      zeta3 -zeta3 - 1]\n",
       "[ 1  1  1], [ 1  1], [         1 -zeta3 - 1      zeta3]\n",
       "]"
      ]
     },
     "execution_count": 11,
     "metadata": {},
     "output_type": "execute_result"
    }
   ],
   "source": [
    "cent_s3_centralizer_character_table = character_table_centralizers(cent_s3)\n",
    "cent_s3_centralizer_character_table"
   ]
  },
  {
   "cell_type": "code",
   "execution_count": 12,
   "metadata": {
    "collapsed": false
   },
   "outputs": [
    {
     "data": {
      "text/plain": [
       "[\n",
       "[ 1  1  1  1  1]                              \n",
       "[ 1 -1 -1  1  1]  [ 1  1  1  1]  [ 1  1  1  1]\n",
       "[ 1 -1  1 -1  1]  [ 1 -1 -1  1]  [ 1 -1 -1  1]\n",
       "[ 1  1 -1 -1  1]  [ 1 -1  1 -1]  [ 1 -1  1 -1]\n",
       "[ 2  0  0  0 -2], [ 1  1 -1 -1], [ 1  1 -1 -1],\n",
       "\n",
       "                               [ 1  1  1  1  1]\n",
       "[     1      1      1      1]  [ 1 -1 -1  1  1]\n",
       "[     1     -1      1     -1]  [ 1 -1  1 -1  1]\n",
       "[     1 -zeta4     -1  zeta4]  [ 1  1 -1 -1  1]\n",
       "[     1  zeta4     -1 -zeta4], [ 2  0  0  0 -2]\n",
       "]"
      ]
     },
     "execution_count": 12,
     "metadata": {},
     "output_type": "execute_result"
    }
   ],
   "source": [
    "cent_d4_centralizer_character_table = character_table_centralizers(cent_d4)\n",
    "cent_d4_centralizer_character_table"
   ]
  },
  {
   "cell_type": "markdown",
   "metadata": {},
   "source": [
    "##### 3. Computing the number of excitations by counting the number of rows in the character table."
   ]
  },
  {
   "cell_type": "code",
   "execution_count": 13,
   "metadata": {
    "collapsed": true
   },
   "outputs": [],
   "source": [
    "def excitations_count(QDM_group):\n",
    "    count = 0\n",
    "    generic_centralizer_character_table = character_table_centralizers(centralizer_conjugacy_class_QDM_generic(QDM_group))\n",
    "    for char_table in generic_centralizer_character_table:\n",
    "        count += char_table.nrows()\n",
    "    return count"
   ]
  },
  {
   "cell_type": "code",
   "execution_count": 14,
   "metadata": {
    "collapsed": false
   },
   "outputs": [
    {
     "data": {
      "text/plain": [
       "4"
      ]
     },
     "execution_count": 14,
     "metadata": {},
     "output_type": "execute_result"
    }
   ],
   "source": [
    "QDM_toric_excitations = excitations_count(QDM_Toric)\n",
    "QDM_toric_excitations"
   ]
  },
  {
   "cell_type": "code",
   "execution_count": 15,
   "metadata": {
    "collapsed": false
   },
   "outputs": [
    {
     "data": {
      "text/plain": [
       "8"
      ]
     },
     "execution_count": 15,
     "metadata": {},
     "output_type": "execute_result"
    }
   ],
   "source": [
    "QDM_S3_excitations = excitations_count(QDM_S3)\n",
    "QDM_S3_excitations"
   ]
  },
  {
   "cell_type": "code",
   "execution_count": 16,
   "metadata": {
    "collapsed": false
   },
   "outputs": [
    {
     "data": {
      "text/plain": [
       "22"
      ]
     },
     "execution_count": 16,
     "metadata": {},
     "output_type": "execute_result"
    }
   ],
   "source": [
    "QDM_D4_excitations = excitations_count(QDM_D4)\n",
    "QDM_D4_excitations"
   ]
  },
  {
   "cell_type": "code",
   "execution_count": 19,
   "metadata": {
    "collapsed": false
   },
   "outputs": [
    {
     "data": {
      "text/plain": [
       "196"
      ]
     },
     "execution_count": 19,
     "metadata": {},
     "output_type": "execute_result"
    }
   ],
   "source": [
    "G_excitations = excitations_count(G)\n",
    "G_excitations"
   ]
  },
  {
   "cell_type": "markdown",
   "metadata": {},
   "source": [
    "* * * "
   ]
  },
  {
   "cell_type": "markdown",
   "metadata": {},
   "source": [
    "#### Developing the machinery to compute the excitations condense on a given boundary"
   ]
  },
  {
   "cell_type": "markdown",
   "metadata": {},
   "source": [
    "##### 1. Computing the character related to the irreducible representation of the group."
   ]
  },
  {
   "cell_type": "code",
   "execution_count": 16,
   "metadata": {
    "collapsed": true
   },
   "outputs": [],
   "source": [
    "def character_excitation(G, conjugacy_class, g, h):\n",
    "    k_h = 0\n",
    "    for g_1 in G:\n",
    "        if h*g_1 == g_1*conjugacy_class.an_element():\n",
    "            k_h = g_1\n",
    "            break\n",
    "    if g*h == h*g and k_h != 0:\n",
    "        return k_h^-1*g*k_h\n",
    "    else:\n",
    "        return 0"
   ]
  },
  {
   "cell_type": "markdown",
   "metadata": {},
   "source": [
    "##### 2. Computing the character related to a particular boundary."
   ]
  },
  {
   "cell_type": "code",
   "execution_count": 17,
   "metadata": {
    "collapsed": true
   },
   "outputs": [],
   "source": [
    "def character_subgroup(G, subgroup, g, h):\n",
    "    sum = 0\n",
    "    if h*g == g*h:\n",
    "        for g_1 in G:\n",
    "            if g_1*g*g_1^-1 in subgroup and g_1*h*g_1^-1 in subgroup:\n",
    "                sum = sum + 1\n",
    "    return sum/len(subgroup)"
   ]
  },
  {
   "cell_type": "markdown",
   "metadata": {},
   "source": [
    "##### 3. Computing the inner product terms of the above characters."
   ]
  },
  {
   "cell_type": "code",
   "execution_count": 18,
   "metadata": {
    "collapsed": true
   },
   "outputs": [],
   "source": [
    "def inner_product_of_characters(QDM_group, subgroup, conjugacy_class):\n",
    "    inner_product_terms = []\n",
    "    for g in QDM_group:\n",
    "        for h in QDM_group:\n",
    "            if character_subgroup(QDM_group, subgroup, g, h) != 0 and character_excitation(QDM_group, conjugacy_class, g, h) != 0:\n",
    "                inner_product_terms.append([character_subgroup(QDM_group, subgroup, g, h), character_excitation(QDM_group, conjugacy_class, g, h)])\n",
    "    return inner_product_terms"
   ]
  },
  {
   "cell_type": "code",
   "execution_count": 19,
   "metadata": {
    "collapsed": false
   },
   "outputs": [
    {
     "data": {
      "text/plain": [
       "[[1, ()], [1, (1,2)], [1, (1,2,3)], [1, (1,3,2)], [1, (2,3)], [1, (1,3)]]"
      ]
     },
     "execution_count": 19,
     "metadata": {},
     "output_type": "execute_result"
    }
   ],
   "source": [
    "inner_product_of_characters(QDM_S3, QDM_S3.subgroups()[5], QDM_S3.conjugacy_classes()[0])"
   ]
  },
  {
   "cell_type": "markdown",
   "metadata": {
    "collapsed": true
   },
   "source": [
    "<style TYPE=\"text/css\">\n",
    "code.has-jax {font: inherit; font-size: 100%; background: inherit; border: inherit;}\n",
    "</style>\n",
    "<script type=\"text/x-mathjax-config\">\n",
    "MathJax.Hub.Config({\n",
    "    tex2jax: {\n",
    "        inlineMath: [['$','$'], ['\\\\(','\\\\)']],\n",
    "        skipTags: ['script', 'noscript', 'style', 'textarea', 'pre'] // removed 'code' entry\n",
    "    }\n",
    "});\n",
    "MathJax.Hub.Queue(function() {\n",
    "    var all = MathJax.Hub.getAllJax(), i;\n",
    "    for(i = 0; i < all.length; i += 1) {\n",
    "        all[i].SourceElement().parentNode.className += ' has-jax';\n",
    "    }\n",
    "});\n",
    "</script>\n",
    "<script type=\"text/javascript\" src=\"http://cdn.mathjax.org/mathjax/latest/MathJax.js?config=TeX-AMS-MML_HTMLorMML\"></script>\n",
    "\n",
    "$1*tr_{\\pi_{i}}(e) + 1*tr_{\\pi_{i}}(1,2) + 1*tr_{\\pi_{i}}(1,2,3) + 1*tr_{\\pi_{i}}(1,3,2) + 1*tr_{\\pi_{i}}(2,3) + 1*tr_{\\pi_{i}}(1,3)$\n",
    "\n",
    "From the character table for $S_{3}$, and labelling each excitation \n",
    "\n",
    "$\\begin{matrix}\n",
    "  \\{e\\} & \\{\\tau\\} & \\{\\sigma\\} &  & \\\\\n",
    "  1 & -1 &  1 &-> & tr_{\\pi_{2}} &-> &B\\\\\n",
    "  2 &  0 & -1 &-> & tr_{\\pi_{3}} &-> &C\\\\\n",
    "  1 &  1 &  1 &-> & tr_{\\pi_{1}} &-> &A\n",
    "\\end{matrix}$\n",
    "\n",
    "Therefore $A$ condenses on the boundary as the inner product is greater than zero, the others go to zero. "
   ]
  },
  {
   "cell_type": "code",
   "execution_count": 20,
   "metadata": {
    "collapsed": false
   },
   "outputs": [
    {
     "data": {
      "text/plain": [
       "[[1, ()], [1, ()], [1, ()], [1, (1,2)], [1, (1,2)], [1, (1,2)]]"
      ]
     },
     "execution_count": 20,
     "metadata": {},
     "output_type": "execute_result"
    }
   ],
   "source": [
    "inner_product_of_characters(QDM_S3, QDM_S3.subgroups()[5], QDM_S3.conjugacy_classes()[1])"
   ]
  },
  {
   "cell_type": "markdown",
   "metadata": {},
   "source": [
    "$3*tr_{\\pi_{i}}(e) + 3*tr_{\\pi_{i}}(1,2)$\n",
    "\n",
    "From the character table for $Z_{2}$, and labelling each excitation \n",
    "\n",
    "$\\begin{matrix}\n",
    " 1 & -1 & tr_{\\pi_{2}} &-> &E\\\\\n",
    " 1 & 1  & tr_{\\pi_{1}} &-> &D\\\\\n",
    "\\end{matrix}$ \n",
    "\n",
    "Therefore $D$ condenses on the boundary as the inner product is greater than zero, the others go to zero. "
   ]
  },
  {
   "cell_type": "code",
   "execution_count": 21,
   "metadata": {
    "collapsed": false
   },
   "outputs": [
    {
     "data": {
      "text/plain": [
       "[[1, ()], [1, ()], [1, (1,2,3)], [1, (1,3,2)], [1, (1,3,2)], [1, (1,2,3)]]"
      ]
     },
     "execution_count": 21,
     "metadata": {},
     "output_type": "execute_result"
    }
   ],
   "source": [
    "inner_product_of_characters(QDM_S3, QDM_S3.subgroups()[5], QDM_S3.conjugacy_classes()[2])"
   ]
  },
  {
   "cell_type": "markdown",
   "metadata": {},
   "source": [
    "$2*tr_{\\pi_{i}}(e) + 2*tr_{\\pi_{i}}(1,2,3) + 2*tr_{\\pi_{i}}(1,3,2)$\n",
    "\n",
    "From the character table for $Z_{3}$, and labelling each excitation \n",
    "\n",
    "$\\begin{matrix}\n",
    " 1   & 1            & 1        &tr_{\\pi_{1}} &-> &F \\\\\n",
    " 1   & zeta3        &-zeta3- 1      &tr_{\\pi_{2}} &-> &G \\\\\n",
    " 1   & -zeta3 - 1   & zeta3    &tr_{\\pi_{3}} &-> &H\n",
    "\\end{matrix}$ \n",
    "\n",
    "Therefore $F$ condenses on the boundary as the inner product is greater than zero, the others go to zero. \n",
    "\n",
    "Hence, for the subgroup $ K = G $, the excitations $ A, D, F $ condense on the boundary."
   ]
  },
  {
   "cell_type": "markdown",
   "metadata": {},
   "source": [
    " * * * "
   ]
  },
  {
   "cell_type": "markdown",
   "metadata": {},
   "source": [
    "Similarly varying the boundaries (different subgroups) and using the inner product, the excitations which condense on the boundary can be determined."
   ]
  },
  {
   "cell_type": "code",
   "execution_count": 22,
   "metadata": {
    "collapsed": true
   },
   "outputs": [],
   "source": [
    "def boundary_condensates(QDM_group, QDM_subgroup):\n",
    "    total_inner_product_terms = []\n",
    "    for conj_class in QDM_group.conjugacy_classes():\n",
    "        total_inner_product_terms.append(inner_product_of_characters(QDM_group, QDM_subgroup, conj_class))\n",
    "    return total_inner_product_terms"
   ]
  },
  {
   "cell_type": "markdown",
   "metadata": {},
   "source": [
    "<style TYPE=\"text/css\">\n",
    "code.has-jax {font: inherit; font-size: 100%; background: inherit; border: inherit;}\n",
    "</style>\n",
    "<script type=\"text/x-mathjax-config\">\n",
    "MathJax.Hub.Config({\n",
    "    tex2jax: {\n",
    "        inlineMath: [['$','$'], ['\\\\(','\\\\)']],\n",
    "        skipTags: ['script', 'noscript', 'style', 'textarea', 'pre'] // removed 'code' entry\n",
    "    }\n",
    "});\n",
    "MathJax.Hub.Queue(function() {\n",
    "    var all = MathJax.Hub.getAllJax(), i;\n",
    "    for(i = 0; i < all.length; i += 1) {\n",
    "        all[i].SourceElement().parentNode.className += ' has-jax';\n",
    "    }\n",
    "});\n",
    "</script>\n",
    "<script type=\"text/javascript\" src=\"http://cdn.mathjax.org/mathjax/latest/MathJax.js?config=TeX-AMS-MML_HTMLorMML\"></script>\n",
    "\n",
    "Boundary condensates for the boundary indexed by $\\{e, \\tau\\}$"
   ]
  },
  {
   "cell_type": "code",
   "execution_count": 23,
   "metadata": {
    "collapsed": false
   },
   "outputs": [
    {
     "data": {
      "text/plain": [
       "[[[3, ()], [1, (1,2)], [1, (2,3)], [1, (1,3)]],\n",
       " [[1, ()], [1, ()], [1, ()], [1, (1,2)], [1, (1,2)], [1, (1,2)]],\n",
       " []]"
      ]
     },
     "execution_count": 23,
     "metadata": {},
     "output_type": "execute_result"
    }
   ],
   "source": [
    "boundary_condensates(QDM_S3, QDM_S3.subgroups()[1])"
   ]
  },
  {
   "cell_type": "markdown",
   "metadata": {},
   "source": [
    "Observing the character table list, $ A, C, D $ condense given the boundary is indexed by $\\{e, \\tau\\}$"
   ]
  },
  {
   "cell_type": "markdown",
   "metadata": {},
   "source": [
    "* * * "
   ]
  },
  {
   "cell_type": "markdown",
   "metadata": {},
   "source": [
    "#### Construction of the ribbon operators for lattice with boundary"
   ]
  },
  {
   "cell_type": "markdown",
   "metadata": {},
   "source": [
    "Given that the boundary is given by the boundary (subgroup $K$), the ribbon operator with an excitation in the bulk and the condensate on the boundary is given by\n",
    "\n",
    "$T^{(k,g)} = \\varSigma_{l \\in K} F^{(lkl^{-1}, gl^{-1})}$ where $k \\in K, g \\in G$ \n",
    "\n",
    "Fixing the subgroup $K = \\{e, \\tau\\}, (\\{e, (2,3)\\}$ for example)"
   ]
  },
  {
   "cell_type": "code",
   "execution_count": 24,
   "metadata": {
    "collapsed": false
   },
   "outputs": [
    {
     "data": {
      "text/plain": [
       "Subgroup of (Symmetric group of order 3! as a permutation group) generated by [(2,3)]"
      ]
     },
     "execution_count": 24,
     "metadata": {},
     "output_type": "execute_result"
    }
   ],
   "source": [
    "K = QDM_S3.subgroups()[1];K"
   ]
  },
  {
   "cell_type": "code",
   "execution_count": 25,
   "metadata": {
    "collapsed": false
   },
   "outputs": [
    {
     "data": {
      "text/plain": [
       "[[(), (), (), ()],\n",
       " [(), (), (), (2,3)],\n",
       " [(), (1,2), (), (1,2)],\n",
       " [(), (1,2), (), (1,2,3)],\n",
       " [(), (1,2,3), (), (1,3,2)],\n",
       " [(), (1,2,3), (), (1,3)],\n",
       " [(), (1,3,2), (), (1,2,3)],\n",
       " [(), (1,3,2), (), (1,2)],\n",
       " [(), (2,3), (), (2,3)],\n",
       " [(), (2,3), (), ()],\n",
       " [(), (1,3), (), (1,3)],\n",
       " [(), (1,3), (), (1,3,2)],\n",
       " [(2,3), (), (2,3), ()],\n",
       " [(2,3), (), (2,3), (2,3)],\n",
       " [(2,3), (1,2), (2,3), (1,2)],\n",
       " [(2,3), (1,2), (2,3), (1,2,3)],\n",
       " [(2,3), (1,2,3), (2,3), (1,3,2)],\n",
       " [(2,3), (1,2,3), (2,3), (1,3)],\n",
       " [(2,3), (1,3,2), (2,3), (1,2,3)],\n",
       " [(2,3), (1,3,2), (2,3), (1,2)],\n",
       " [(2,3), (2,3), (2,3), (2,3)],\n",
       " [(2,3), (2,3), (2,3), ()],\n",
       " [(2,3), (1,3), (2,3), (1,3)],\n",
       " [(2,3), (1,3), (2,3), (1,3,2)]]"
      ]
     },
     "execution_count": 25,
     "metadata": {},
     "output_type": "execute_result"
    }
   ],
   "source": [
    "def ribbon_operator_constructs(QDM_group, subgroup):\n",
    "    ribbon_operator_terms = []\n",
    "    for k in subgroup:\n",
    "        for g in QDM_group:\n",
    "            for l in subgroup:\n",
    "                ribbon_operator_terms.append([k,g,l*k*l^-1, l*g^-1])\n",
    "    return ribbon_operator_terms\n",
    "ribbon_operator_constructs(QDM_S3, K)"
   ]
  },
  {
   "cell_type": "markdown",
   "metadata": {},
   "source": [
    "$ T^{(e,e)} = F^{(e,e)} + F^{(e,(2,3))}, \\\\\n",
    "T^{(e,(1,2))} = F^{(e,(1,2))} + F^{(e,(1,2,3))},\\\\\n",
    "T^{(e,(1,2,3))} = F^{(e,(1,3,2))} + F^{(e,(1,3))},\\\\\n",
    "T^{((2,3),e)} = F^{((2,3),e)} + F^{((2,3),(2,3))},\\\\\n",
    "T^{((2,3),(1,2))} = F^{((2,3),(1,2))} + F^{((2,3),(1,2,3))},\\\\\n",
    "T^{((2,3),(1,2,3))} = F^{((2,3),(1,3,2))} + F^{((2,3),(1,3))}$"
   ]
  },
  {
   "cell_type": "markdown",
   "metadata": {},
   "source": [
    "Similarly for various boundaries, various ribbon operators connecting the bulk to the boundary can be generated. It is observed that for every boundary (every subgroup) there are 6 unique ribbon operators connecting the bulk to boundary."
   ]
  },
  {
   "cell_type": "markdown",
   "metadata": {},
   "source": [
    "* * *"
   ]
  },
  {
   "cell_type": "markdown",
   "metadata": {},
   "source": [
    "##### Ground states with respect to different `T` operators on a cylinder with a single lattice (implying boundary on both sides of the lattice)\n",
    "\n",
    "The lattice looks in the following way : \n",
    "\n",
    "$\\begin{matrix}\n",
    "-&-&g_{1}&-&-&-&-&-&-&g_{1}&-&-\\\\      \n",
    " & &     & & & | & & &     & & \\\\\n",
    " & &     & & & | & & &     & & \\\\\n",
    " & &     & & & g_{2} & & &     & & \\\\\n",
    " & &     & & & | & & &     & & \\\\\n",
    " & &     & & & | & & &     & & \\\\ \n",
    "-&-&g_{3}&-&-&-&-&-&-&g_{3}&-&-\n",
    "\\end{matrix}$\n",
    "\n",
    "Eigenstates of $\\Pi \\{\\varSigma$ $(vertex$ $operators)\\}$ $(face$ $operators) T$ are the ground states of the lattice with an operator. In the above lattice $g_{1} and g_{3}$ are restricted to the subgroup (identified as boundary). There are three conditions to be satisfied, fixing the boundary to be $\\{e, \\tau\\}$, due to the ribbon operators $g_{2}$ is restricted to $\\{e, (2,3)\\}$, due to the face operators the relationship between $g_{1}, g_{2}, g_{3}$ is as follows $g_{3}g_{2}g_{1}g_{2}^{-1} = e$, and finally due to the vertex operators $g_{1}, g_{2}, g_{3}$ get mapped to $k_{u}g_{1}k_{u}^{-1}, k_{d}g_{2}k_{u}^{-1} , k_{d}g_{3}k_{d}^{-1}$ respectively, where $k_{u}, k_{d} \\in K$ "
   ]
  },
  {
   "cell_type": "code",
   "execution_count": 26,
   "metadata": {
    "collapsed": true
   },
   "outputs": [],
   "source": [
    "def ground_state_terms(g1, g2, g3, ku,  kd):\n",
    "    return ku*g1*ku^-1, kd*g2*ku^-1, kd*g3*kd^-1"
   ]
  },
  {
   "cell_type": "code",
   "execution_count": 27,
   "metadata": {
    "collapsed": true
   },
   "outputs": [],
   "source": [
    "def ground_state_sum(condition_set, subgroup):\n",
    "    s = []\n",
    "    for g2 in condition_set[1]:\n",
    "        for g3 in subgroup:\n",
    "            for g1 in subgroup:\n",
    "                if condition_set[0]*g3*g2*condition_set[0]*g1 == g2:\n",
    "                    s.append((condition_set[0]*g1,g2,condition_set[0]*g3))\n",
    "                    for i in subgroup:\n",
    "                        for j in subgroup:\n",
    "                            s.append([ground_state_terms(condition_set[0]*g1, g2, condition_set[0]*g3, i, j)])\n",
    "    return s"
   ]
  },
  {
   "cell_type": "markdown",
   "metadata": {},
   "source": [
    "Observing that $ T^{(e,e)} = F^{(e,e)} + F^{(e,(2,3))}$ the condition set is that $g_{2} \\in \\{e,(2,3)\\}$ similarly to determine the other ground states the condition set is required"
   ]
  },
  {
   "cell_type": "code",
   "execution_count": 28,
   "metadata": {
    "collapsed": false
   },
   "outputs": [
    {
     "data": {
      "text/plain": [
       "[((), (), ()),\n",
       " [((), (), ())],\n",
       " [((), (2,3), ())],\n",
       " [((), (2,3), ())],\n",
       " [((), (), ())],\n",
       " ((2,3), (), (2,3)),\n",
       " [((2,3), (), (2,3))],\n",
       " [((2,3), (2,3), (2,3))],\n",
       " [((2,3), (2,3), (2,3))],\n",
       " [((2,3), (), (2,3))],\n",
       " ((), (2,3), ()),\n",
       " [((), (2,3), ())],\n",
       " [((), (), ())],\n",
       " [((), (), ())],\n",
       " [((), (2,3), ())],\n",
       " ((2,3), (2,3), (2,3)),\n",
       " [((2,3), (2,3), (2,3))],\n",
       " [((2,3), (), (2,3))],\n",
       " [((2,3), (), (2,3))],\n",
       " [((2,3), (2,3), (2,3))]]"
      ]
     },
     "execution_count": 28,
     "metadata": {},
     "output_type": "execute_result"
    }
   ],
   "source": [
    "ground_state_sum([QDM_S3[0],[QDM_S3[0], QDM_S3[4]]], QDM_S3.subgroups()[1])"
   ]
  },
  {
   "cell_type": "markdown",
   "metadata": {},
   "source": [
    "This implies for the operator $T^{(e,e)}$ :\n",
    "\n",
    "$\\begin{matrix}\n",
    "Possible \\hspace{2 mm} initial \\hspace{2 mm} configuration & Ground  \\hspace{2 mm} state \\\\\n",
    "(e,e,e) &  2*(e,e,e) + 2*(e,(2,3),e) \\\\\n",
    "((2,3), e, (2,3)) & 2*((2,3), e, (2,3)) + 2*((2,3), (2,3), (2,3)) \\\\\n",
    "(e, (2,3), e) & 2*(e,e,e) + 2*(e,(2,3),e) \\\\\n",
    "((2,3), (2,3), (2,3)) & 2*((2,3), e, (2,3)) + 2*((2,3), (2,3), (2,3))\n",
    "\\end{matrix}$"
   ]
  },
  {
   "cell_type": "code",
   "execution_count": 29,
   "metadata": {
    "collapsed": false
   },
   "outputs": [
    {
     "data": {
      "text/plain": [
       "[((), (1,2), ()),\n",
       " [((), (1,2), ())],\n",
       " [((), (1,2,3), ())],\n",
       " [((), (1,3,2), ())],\n",
       " [((), (1,3), ())],\n",
       " ((), (1,2,3), ()),\n",
       " [((), (1,2,3), ())],\n",
       " [((), (1,2), ())],\n",
       " [((), (1,3), ())],\n",
       " [((), (1,3,2), ())]]"
      ]
     },
     "execution_count": 29,
     "metadata": {},
     "output_type": "execute_result"
    }
   ],
   "source": [
    "ground_state_sum([QDM_S3[0],[QDM_S3[1], QDM_S3[2]]], QDM_S3.subgroups()[1])"
   ]
  },
  {
   "cell_type": "markdown",
   "metadata": {},
   "source": [
    "This implies for the operator $T^{(e,(1,2))}$ :\n",
    "\n",
    "$\\begin{matrix}\n",
    "Possible \\hspace{2 mm} initial \\hspace{2 mm} configuration & Ground  \\hspace{2 mm} state \\\\\n",
    "(e,(1,2),e) &  (e,(1,2),e) + (e,(1,2,3),e) + (e,(1,3,2),e) + (e,(1,3),e) \\\\\n",
    "(e,(1,2,3),e) & (e,(1,2),e) + (e,(1,2,3),e) + (e,(1,3,2),e) + (e,(1,3),e) \n",
    "\\end{matrix}$"
   ]
  },
  {
   "cell_type": "code",
   "execution_count": 30,
   "metadata": {
    "collapsed": false
   },
   "outputs": [
    {
     "data": {
      "text/plain": [
       "[((), (1,3,2), ()),\n",
       " [((), (1,3,2), ())],\n",
       " [((), (1,3), ())],\n",
       " [((), (1,2), ())],\n",
       " [((), (1,2,3), ())],\n",
       " ((), (1,3), ()),\n",
       " [((), (1,3), ())],\n",
       " [((), (1,3,2), ())],\n",
       " [((), (1,2,3), ())],\n",
       " [((), (1,2), ())]]"
      ]
     },
     "execution_count": 30,
     "metadata": {},
     "output_type": "execute_result"
    }
   ],
   "source": [
    "ground_state_sum([QDM_S3[0],[QDM_S3[3], QDM_S3[5]]], QDM_S3.subgroups()[1])"
   ]
  },
  {
   "cell_type": "markdown",
   "metadata": {},
   "source": [
    "This implies for the operator $T^{(e,(1,2,3))}$ :\n",
    "\n",
    "$\\begin{matrix}\n",
    "Possible \\hspace{2 mm} initial \\hspace{2 mm} configuration & Ground  \\hspace{2 mm} state \\\\\n",
    "(e,(1,3),e) &  (e,(1,2),e) + (e,(1,2,3),e) + (e,(1,3,2),e) + (e,(1,3),e) \\\\\n",
    "(e,(1,3,2),e) & (e,(1,2),e) + (e,(1,2,3),e) + (e,(1,3,2),e) + (e,(1,3),e) \n",
    "\\end{matrix}$"
   ]
  },
  {
   "cell_type": "code",
   "execution_count": 31,
   "metadata": {
    "collapsed": false
   },
   "outputs": [
    {
     "data": {
      "text/plain": [
       "[((2,3), (), (2,3)),\n",
       " [((2,3), (), (2,3))],\n",
       " [((2,3), (2,3), (2,3))],\n",
       " [((2,3), (2,3), (2,3))],\n",
       " [((2,3), (), (2,3))],\n",
       " ((), (), ()),\n",
       " [((), (), ())],\n",
       " [((), (2,3), ())],\n",
       " [((), (2,3), ())],\n",
       " [((), (), ())],\n",
       " ((2,3), (2,3), (2,3)),\n",
       " [((2,3), (2,3), (2,3))],\n",
       " [((2,3), (), (2,3))],\n",
       " [((2,3), (), (2,3))],\n",
       " [((2,3), (2,3), (2,3))],\n",
       " ((), (2,3), ()),\n",
       " [((), (2,3), ())],\n",
       " [((), (), ())],\n",
       " [((), (), ())],\n",
       " [((), (2,3), ())]]"
      ]
     },
     "execution_count": 31,
     "metadata": {},
     "output_type": "execute_result"
    }
   ],
   "source": [
    "ground_state_sum([QDM_S3[4],[QDM_S3[0], QDM_S3[4]]], QDM_S3.subgroups()[1])"
   ]
  },
  {
   "cell_type": "markdown",
   "metadata": {},
   "source": [
    "This implies for the operator $T^{((2,3),e)}$ :\n",
    "\n",
    "$\\begin{matrix}\n",
    "Possible \\hspace{2 mm} initial \\hspace{2 mm} configuration & Ground  \\hspace{2 mm} state \\\\\n",
    "(e,e,e) &  2*(e,e,e) + 2*(e,(2,3),e) \\\\\n",
    "((2,3), e, (2,3)) & 2*((2,3), e, (2,3)) + 2*((2,3), (2,3), (2,3)) \\\\\n",
    "(e, (2,3), e) & 2*(e,e,e) + 2*(e,(2,3),e) \\\\\n",
    "((2,3), (2,3), (2,3)) & 2*((2,3), e, (2,3)) + 2*((2,3), (2,3), (2,3))\n",
    "\\end{matrix}$"
   ]
  },
  {
   "cell_type": "code",
   "execution_count": 32,
   "metadata": {
    "collapsed": false
   },
   "outputs": [
    {
     "data": {
      "text/plain": [
       "[((), (1,2), ()),\n",
       " [((), (1,2), ())],\n",
       " [((), (1,2,3), ())],\n",
       " [((), (1,3,2), ())],\n",
       " [((), (1,3), ())],\n",
       " ((), (1,2,3), ()),\n",
       " [((), (1,2,3), ())],\n",
       " [((), (1,2), ())],\n",
       " [((), (1,3), ())],\n",
       " [((), (1,3,2), ())]]"
      ]
     },
     "execution_count": 32,
     "metadata": {},
     "output_type": "execute_result"
    }
   ],
   "source": [
    "ground_state_sum([QDM_S3[4],[QDM_S3[1], QDM_S3[2]]], QDM_S3.subgroups()[1])"
   ]
  },
  {
   "cell_type": "markdown",
   "metadata": {},
   "source": [
    "This implies for the operator $T^{((2,3),(1,2))}$ :\n",
    "\n",
    "$\\begin{matrix}\n",
    "Possible \\hspace{2 mm} initial \\hspace{2 mm} configuration & Ground  \\hspace{2 mm} state \\\\\n",
    "(e,(1,2),e) &  (e,(1,2),e) + (e,(1,2,3),e) + (e,(1,3,2),e) + (e,(1,3),e) \\\\\n",
    "(e,(1,2,3),e) & (e,(1,2),e) + (e,(1,2,3),e) + (e,(1,3,2),e) + (e,(1,3),e) \n",
    "\\end{matrix}$"
   ]
  },
  {
   "cell_type": "code",
   "execution_count": 33,
   "metadata": {
    "collapsed": false
   },
   "outputs": [
    {
     "data": {
      "text/plain": [
       "[((), (1,3,2), ()),\n",
       " [((), (1,3,2), ())],\n",
       " [((), (1,3), ())],\n",
       " [((), (1,2), ())],\n",
       " [((), (1,2,3), ())],\n",
       " ((), (1,3), ()),\n",
       " [((), (1,3), ())],\n",
       " [((), (1,3,2), ())],\n",
       " [((), (1,2,3), ())],\n",
       " [((), (1,2), ())]]"
      ]
     },
     "execution_count": 33,
     "metadata": {},
     "output_type": "execute_result"
    }
   ],
   "source": [
    "ground_state_sum([QDM_S3[4],[QDM_S3[3], QDM_S3[5]]], QDM_S3.subgroups()[1])"
   ]
  },
  {
   "cell_type": "markdown",
   "metadata": {},
   "source": [
    "This implies for the operator $T^{((2,3),(1,2,3))}$ :\n",
    "\n",
    "$\\begin{matrix}\n",
    "Possible \\hspace{2 mm} initial \\hspace{2 mm} configuration & Ground  \\hspace{2 mm} state \\\\\n",
    "(e,(1,3,2),e) &  (e,(1,2),e) + (e,(1,2,3),e) + (e,(1,3,2),e) + (e,(1,3),e) \\\\\n",
    "(e,(1,3),e) & (e,(1,2),e) + (e,(1,2,3),e) + (e,(1,3,2),e) + (e,(1,3),e) \n",
    "\\end{matrix}$"
   ]
  },
  {
   "cell_type": "markdown",
   "metadata": {
    "collapsed": true
   },
   "source": [
    "Therefore, there are 3 unique ground states for all possible configurations of ribbon operators with an excitation at one end and condensate at the other"
   ]
  }
 ],
 "metadata": {
  "kernelspec": {
   "display_name": "Sage 6.9",
   "language": "",
   "name": "sage-6.9"
  },
  "language_info": {
   "codemirror_mode": {
    "name": "ipython",
    "version": 2
   },
   "file_extension": ".py",
   "mimetype": "text/x-python",
   "name": "python",
   "nbconvert_exporter": "python",
   "pygments_lexer": "ipython2",
   "version": "2.7.9"
  },
  "name": "2015-11-15-172038.ipynb"
 },
 "nbformat": 4,
 "nbformat_minor": 0
}
