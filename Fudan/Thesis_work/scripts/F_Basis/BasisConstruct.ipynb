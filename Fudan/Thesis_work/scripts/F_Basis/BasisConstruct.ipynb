{
 "cells": [
  {
   "cell_type": "code",
   "execution_count": 1,
   "metadata": {
    "collapsed": false
   },
   "outputs": [],
   "source": [
    "%matplotlib inline\n",
    "\n",
    "import matplotlib\n",
    "import numpy as np\n",
    "import matplotlib.pyplot as plt\n",
    "import networkx as nx\n",
    "from sage.combinat.combination import Combinations\n",
    "from BasisConstruct import BasisSpace\n",
    "from sympy.abc import *"
   ]
  },
  {
   "cell_type": "code",
   "execution_count": 2,
   "metadata": {
    "collapsed": false
   },
   "outputs": [],
   "source": [
    "Ising_Model = BasisSpace([i, a, b], [[(a, a), i+b], [(a, b), a], [(b, a), a], [(b, b), i]])"
   ]
  },
  {
   "cell_type": "code",
   "execution_count": 3,
   "metadata": {
    "collapsed": false
   },
   "outputs": [
    {
     "data": {
      "text/plain": [
       "[i, a, b]"
      ]
     },
     "execution_count": 3,
     "metadata": {},
     "output_type": "execute_result"
    }
   ],
   "source": [
    "Ising_Model.edge_labels"
   ]
  },
  {
   "cell_type": "code",
   "execution_count": 4,
   "metadata": {
    "collapsed": false
   },
   "outputs": [
    {
     "data": {
      "text/plain": [
       "[[(a, a), b + i], [(a, b), a], [(b, a), a], [(b, b), i]]"
      ]
     },
     "execution_count": 4,
     "metadata": {},
     "output_type": "execute_result"
    }
   ],
   "source": [
    "Ising_Model.fusion_rules"
   ]
  },
  {
   "cell_type": "code",
   "execution_count": 5,
   "metadata": {
    "collapsed": false
   },
   "outputs": [
    {
     "data": {
      "text/plain": [
       "[((i, i), (i, i), i),\n",
       " ((i, i), (i, a), a),\n",
       " ((i, i), (i, b), b),\n",
       " ((i, a), (a, i), a),\n",
       " ((i, a), (a, a), b + i),\n",
       " ((i, a), (a, b), a),\n",
       " ((i, b), (b, i), b),\n",
       " ((i, b), (b, a), a),\n",
       " ((i, b), (b, b), i),\n",
       " ((a, b), (a, i), a),\n",
       " ((a, b), (a, a), b + i),\n",
       " ((a, b), (a, b), a),\n",
       " ((b, b), (i, i), i),\n",
       " ((b, b), (i, a), a),\n",
       " ((b, b), (i, b), b),\n",
       " ((b, a), (a, i), a),\n",
       " ((b, a), (a, a), b + i),\n",
       " ((b, a), (a, b), a),\n",
       " ((a, a), (b, i), b),\n",
       " ((a, a), (i, i), i),\n",
       " ((a, a), (b, a), a),\n",
       " ((a, a), (i, a), a),\n",
       " ((a, a), (b, b), i),\n",
       " ((a, a), (i, b), b)]"
      ]
     },
     "execution_count": 5,
     "metadata": {},
     "output_type": "execute_result"
    }
   ],
   "source": [
    "Ising_Model.basis_construct()"
   ]
  },
  {
   "cell_type": "code",
   "execution_count": 8,
   "metadata": {
    "collapsed": false
   },
   "outputs": [
    {
     "data": {
      "text/plain": [
       "<matplotlib.figure.Figure object at 0x7fb173dc4750>"
      ]
     },
     "metadata": {},
     "output_type": "display_data"
    }
   ],
   "source": [
    "Ising_Model.basis_graph_construct([(a, a), (i, a), a])"
   ]
  },
  {
   "cell_type": "code",
   "execution_count": 9,
   "metadata": {
    "collapsed": false
   },
   "outputs": [
    {
     "data": {
      "text/plain": [
       "((i, b), (b, i), b)"
      ]
     },
     "execution_count": 9,
     "metadata": {},
     "output_type": "execute_result"
    }
   ],
   "source": [
    "transform = Ising_Model.basis_transform(((i, b), (b, i), b))\n",
    "transform"
   ]
  },
  {
   "cell_type": "code",
   "execution_count": 10,
   "metadata": {
    "collapsed": false
   },
   "outputs": [
    {
     "data": {
      "text/plain": [
       "<matplotlib.figure.Figure object at 0x7fb173cd1b90>"
      ]
     },
     "metadata": {},
     "output_type": "display_data"
    }
   ],
   "source": [
    "Ising_Model.basis_graph_transform_construct(transform)"
   ]
  },
  {
   "cell_type": "code",
   "execution_count": 8,
   "metadata": {
    "collapsed": true
   },
   "outputs": [],
   "source": [
    "Fibonacci_Model = BasisSpace([i, a], [[(a, a), i+a]])"
   ]
  },
  {
   "cell_type": "code",
   "execution_count": 9,
   "metadata": {
    "collapsed": false
   },
   "outputs": [
    {
     "data": {
      "text/plain": [
       "[i, a]"
      ]
     },
     "execution_count": 9,
     "metadata": {},
     "output_type": "execute_result"
    }
   ],
   "source": [
    "Fibonacci_Model.edge_labels"
   ]
  },
  {
   "cell_type": "code",
   "execution_count": 10,
   "metadata": {
    "collapsed": false
   },
   "outputs": [
    {
     "data": {
      "text/plain": [
       "[[(a, a), a + i]]"
      ]
     },
     "execution_count": 10,
     "metadata": {},
     "output_type": "execute_result"
    }
   ],
   "source": [
    "Fibonacci_Model.fusion_rules"
   ]
  },
  {
   "cell_type": "code",
   "execution_count": 11,
   "metadata": {
    "collapsed": false
   },
   "outputs": [
    {
     "data": {
      "text/plain": [
       "[((i, i), (i, i), i),\n",
       " ((i, i), (i, a), a),\n",
       " ((i, a), (a, i), a),\n",
       " ((i, a), (a, a), a + i),\n",
       " ((a, a), (a, i), a),\n",
       " ((a, a), (i, i), i),\n",
       " ((a, a), (a, a), a + i),\n",
       " ((a, a), (i, a), a)]"
      ]
     },
     "execution_count": 11,
     "metadata": {},
     "output_type": "execute_result"
    }
   ],
   "source": [
    "Fibonacci_Model.basis_construct()"
   ]
  },
  {
   "cell_type": "code",
   "execution_count": 12,
   "metadata": {
    "collapsed": false
   },
   "outputs": [
    {
     "data": {
      "text/plain": [
       "<matplotlib.figure.Figure object at 0x7f8f64e79310>"
      ]
     },
     "metadata": {},
     "output_type": "display_data"
    }
   ],
   "source": [
    "Fibonacci_Model.basis_graph_construct([(i, a), (a, i), a])"
   ]
  },
  {
   "cell_type": "code",
   "execution_count": 13,
   "metadata": {
    "collapsed": false
   },
   "outputs": [
    {
     "data": {
      "text/plain": [
       "((a, i), (a, i), a)"
      ]
     },
     "execution_count": 13,
     "metadata": {},
     "output_type": "execute_result"
    }
   ],
   "source": [
    "Fibonacci_Model.basis_transform(((i, i), (i, a), a))"
   ]
  },
  {
   "cell_type": "code",
   "execution_count": null,
   "metadata": {
    "collapsed": true
   },
   "outputs": [],
   "source": []
  }
 ],
 "metadata": {
  "kernelspec": {
   "display_name": "Sage 6.9",
   "language": "",
   "name": "sage-6.9"
  },
  "language_info": {
   "codemirror_mode": {
    "name": "ipython",
    "version": 2
   },
   "file_extension": ".py",
   "mimetype": "text/x-python",
   "name": "python",
   "nbconvert_exporter": "python",
   "pygments_lexer": "ipython2",
   "version": "2.7.9"
  },
  "name": "BasisConstruct.ipynb"
 },
 "nbformat": 4,
 "nbformat_minor": 0
}
